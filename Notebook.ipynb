{
 "cells": [
  {
   "cell_type": "code",
   "execution_count": null,
   "id": "288191e0-5ff5-4317-9678-a52cdf2c202f",
   "metadata": {},
   "outputs": [],
   "source": []
  },
  {
   "cell_type": "code",
   "execution_count": 1,
   "id": "d5e8eaa8-6973-4cc9-a55a-1481d1ec0616",
   "metadata": {},
   "outputs": [
    {
     "name": "stderr",
     "output_type": "stream",
     "text": [
      "Registered S3 methods overwritten by 'ggplot2':\n",
      "  method         from \n",
      "  [.quosures     rlang\n",
      "  c.quosures     rlang\n",
      "  print.quosures rlang\n",
      "Registered S3 method overwritten by 'rvest':\n",
      "  method            from\n",
      "  read_xml.response xml2\n",
      "-- Attaching packages --------------------------------------- tidyverse 1.2.1 --\n",
      "v ggplot2 3.1.1       v purrr   0.3.2  \n",
      "v tibble  2.1.1       v dplyr   0.8.0.1\n",
      "v tidyr   0.8.3       v stringr 1.4.0  \n",
      "v readr   1.3.1       v forcats 0.4.0  \n",
      "-- Conflicts ------------------------------------------ tidyverse_conflicts() --\n",
      "x dplyr::filter() masks stats::filter()\n",
      "x dplyr::lag()    masks stats::lag()\n"
     ]
    }
   ],
   "source": [
    "library(tidyverse)\n",
    "library(datasets)"
   ]
  },
  {
   "cell_type": "code",
   "execution_count": null,
   "id": "66cfa497-9da7-49bc-b4f4-5c238e1c7364",
   "metadata": {},
   "outputs": [],
   "source": []
  },
  {
   "cell_type": "code",
   "execution_count": 5,
   "id": "5f6b9881-832d-4f96-a930-2a632647b9dd",
   "metadata": {},
   "outputs": [
    {
     "data": {
      "text/html": [
       "<table>\n",
       "<thead><tr><th scope=col>gender</th><th scope=col>mass</th><th scope=col>height</th><th scope=col>species</th></tr></thead>\n",
       "<tbody>\n",
       "\t<tr><td>male  </td><td> 77   </td><td>172   </td><td>Human </td></tr>\n",
       "\t<tr><td>male  </td><td>136   </td><td>202   </td><td>Human </td></tr>\n",
       "\t<tr><td>female</td><td> 49   </td><td>150   </td><td>Human </td></tr>\n",
       "\t<tr><td>male  </td><td>120   </td><td>178   </td><td>Human </td></tr>\n",
       "\t<tr><td>female</td><td> 75   </td><td>165   </td><td>Human </td></tr>\n",
       "\t<tr><td>male  </td><td> 84   </td><td>183   </td><td>Human </td></tr>\n",
       "</tbody>\n",
       "</table>\n"
      ],
      "text/latex": [
       "\\begin{tabular}{r|llll}\n",
       " gender & mass & height & species\\\\\n",
       "\\hline\n",
       "\t male   &  77    & 172    & Human \\\\\n",
       "\t male   & 136    & 202    & Human \\\\\n",
       "\t female &  49    & 150    & Human \\\\\n",
       "\t male   & 120    & 178    & Human \\\\\n",
       "\t female &  75    & 165    & Human \\\\\n",
       "\t male   &  84    & 183    & Human \\\\\n",
       "\\end{tabular}\n"
      ],
      "text/markdown": [
       "\n",
       "| gender | mass | height | species |\n",
       "|---|---|---|---|\n",
       "| male   |  77    | 172    | Human  |\n",
       "| male   | 136    | 202    | Human  |\n",
       "| female |  49    | 150    | Human  |\n",
       "| male   | 120    | 178    | Human  |\n",
       "| female |  75    | 165    | Human  |\n",
       "| male   |  84    | 183    | Human  |\n",
       "\n"
      ],
      "text/plain": [
       "  gender mass height species\n",
       "1 male    77  172    Human  \n",
       "2 male   136  202    Human  \n",
       "3 female  49  150    Human  \n",
       "4 male   120  178    Human  \n",
       "5 female  75  165    Human  \n",
       "6 male    84  183    Human  "
      ]
     },
     "metadata": {},
     "output_type": "display_data"
    }
   ],
   "source": [
    "Humans <- starwars %>% \n",
    "  select(gender, mass, height, species) %>% \n",
    "  filter(species == \"Human\") %>% \n",
    "  na.omit()\n",
    "head(Humans)"
   ]
  },
  {
   "cell_type": "code",
   "execution_count": null,
   "id": "3a93b2c0-e54a-49b8-8c5b-57c2762456dc",
   "metadata": {},
   "outputs": [],
   "source": []
  },
  {
   "cell_type": "code",
   "execution_count": 6,
   "id": "ec8a5c42-afbd-433a-a11f-4176b1428d9f",
   "metadata": {},
   "outputs": [
    {
     "name": "stdout",
     "output_type": "stream",
     "text": [
      "Classes 'tbl_df', 'tbl' and 'data.frame':\t22 obs. of  4 variables:\n",
      " $ gender : chr  \"male\" \"male\" \"female\" \"male\" ...\n",
      " $ mass   : num  77 136 49 120 75 84 77 84 80 77 ...\n",
      " $ height : int  172 202 150 178 165 183 182 188 180 170 ...\n",
      " $ species: chr  \"Human\" \"Human\" \"Human\" \"Human\" ...\n",
      " - attr(*, \"na.action\")= 'omit' Named int  9 17 18 20 21 24 25 26 28 30 ...\n",
      "  ..- attr(*, \"names\")= chr  \"9\" \"17\" \"18\" \"20\" ...\n"
     ]
    }
   ],
   "source": [
    "str(Humans)"
   ]
  },
  {
   "cell_type": "code",
   "execution_count": null,
   "id": "1f94b925-abcb-41b9-83e2-a4d65e6fc44a",
   "metadata": {},
   "outputs": [],
   "source": []
  }
 ],
 "metadata": {
  "kernelspec": {
   "display_name": "R",
   "language": "R",
   "name": "ir"
  },
  "language_info": {
   "codemirror_mode": "r",
   "file_extension": ".r",
   "mimetype": "text/x-r-source",
   "name": "R",
   "pygments_lexer": "r",
   "version": "3.6.1"
  }
 },
 "nbformat": 4,
 "nbformat_minor": 5
}
